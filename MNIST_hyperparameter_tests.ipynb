{
 "cells": [
  {
   "cell_type": "code",
   "execution_count": 13,
   "id": "1e034b9c-8679-48a4-b358-a3aff019b3d1",
   "metadata": {},
   "outputs": [],
   "source": [
    "from tensorflow.keras.datasets import mnist \n",
    "from tensorflow.keras.models import Sequential\n",
    "from tensorflow.keras.layers import Dense\n",
    "from tensorflow.keras.optimizers import Adam\n",
    "from tensorflow.keras import utils, Input\n",
    "from tensorflow.keras.preprocessing import image\n",
    "from tensorflow.keras.backend import clear_session\n",
    "import numpy as np\n",
    "import pylab\n",
    "import matplotlib.pyplot as plt \n",
    "from PIL import Image \n",
    "%matplotlib inline"
   ]
  },
  {
   "cell_type": "code",
   "execution_count": 2,
   "id": "0f3beae0-b27c-46f2-b71d-3b29fdb72ad9",
   "metadata": {},
   "outputs": [],
   "source": [
    "(x_train_org, y_train_org), (x_test_org, y_test_org) = mnist.load_data()"
   ]
  },
  {
   "cell_type": "markdown",
   "id": "204d9b7b-5d6a-438d-8f5a-5195d7febdba",
   "metadata": {},
   "source": [
    "## Поменяем формат и нормализуем"
   ]
  },
  {
   "cell_type": "code",
   "execution_count": 49,
   "id": "92d282b0-6efe-45b6-bf85-ed86b968873f",
   "metadata": {},
   "outputs": [
    {
     "data": {
      "text/plain": [
       "(60000, 784)"
      ]
     },
     "execution_count": 49,
     "metadata": {},
     "output_type": "execute_result"
    }
   ],
   "source": [
    "x_train.shape"
   ]
  },
  {
   "cell_type": "code",
   "execution_count": 14,
   "id": "27df4981-066d-47ff-97f9-27e293cc20a5",
   "metadata": {},
   "outputs": [],
   "source": [
    "def preprocess_mnits(data):\n",
    "    data = data.reshape(data.shape[0], data.shape[1] ** 2)\n",
    "    data = data.astype('float32')\n",
    "    data = data / 255\n",
    "    return data"
   ]
  },
  {
   "cell_type": "code",
   "execution_count": 15,
   "id": "785b3a6f-3219-4372-8a07-d501d20eafbc",
   "metadata": {},
   "outputs": [],
   "source": [
    "def to_categorical_mnist(data):\n",
    "    return utils.to_categorical(data, 10)"
   ]
  },
  {
   "cell_type": "code",
   "execution_count": 16,
   "id": "f51a126a-f8ef-4612-98a2-93f356fdf9d0",
   "metadata": {},
   "outputs": [],
   "source": [
    "x_train = preprocess_mnits(x_train_org)\n",
    "x_test = preprocess_mnits(x_test_org)"
   ]
  },
  {
   "cell_type": "code",
   "execution_count": 17,
   "id": "f55028e6-465e-48fc-b189-365db3dab9be",
   "metadata": {},
   "outputs": [],
   "source": [
    "y_train = to_categorical_mnist(y_train_org)\n",
    "y_test = to_categorical_mnist(y_test_org)"
   ]
  },
  {
   "cell_type": "code",
   "execution_count": 40,
   "id": "7ddfaf99-8211-487b-ad07-5ed69bbc2949",
   "metadata": {},
   "outputs": [],
   "source": [
    "class MNIST_Model:\n",
    "    def __init__(self, neorons=128, activation='relu', batch_size=32, epochs=15):\n",
    "        clear_session()\n",
    "        self.neorons = neorons\n",
    "        self.activation = activation\n",
    "        self.batch_size = batch_size\n",
    "        self.epochs = epochs\n",
    "        self.model = None\n",
    "        self.history = None\n",
    "\n",
    "    def build_model(self):\n",
    "        self.model = Sequential([Input(shape=(784, ))])\n",
    "        self.model.add(Dense(self.neorons, activation=self.activation))\n",
    "        self.model.add(Dense(self.neorons, activation=self.activation))\n",
    "        self.model.add(Dense(10, activation='softmax'))\n",
    "        self.model.compile(loss='categorical_crossentropy', optimizer='adam', metrics=['accuracy'])\n",
    "        return self.model\n",
    "\n",
    "    def train(self, x_train, y_train, x_test, y_test):\n",
    "        if self.model is None:\n",
    "            self.build_model()\n",
    "        self.history = self.model.fit(\n",
    "            x_train, y_train,\n",
    "            validation_data=(x_test, y_test),\n",
    "            epochs=self.epochs,\n",
    "            batch_size=self.batch_size,\n",
    "            verbose=0            \n",
    "        )\n",
    "        return self.history\n",
    "    def evaluate(self, x_test, y_test):\n",
    "        loss, acc = self.model.evaluate(x_test, y_test)\n",
    "        return acc\n",
    "\n",
    "    def predict(self, img_array):\n",
    "        if self.model is None:\n",
    "            raise ValueError('Модель не обучена. Вызовите метод train()')\n",
    "        preds = self.model.predict(img_array)\n",
    "        return np.argmax(preds, axis=1)"
   ]
  },
  {
   "cell_type": "markdown",
   "id": "e97a120c-ff66-4c80-9459-d21d7e061e4c",
   "metadata": {},
   "source": [
    "### Модели с функцией активации relu"
   ]
  },
  {
   "cell_type": "code",
   "execution_count": 19,
   "id": "a0de02d8-417e-4d21-9a53-1dfd8834cbd4",
   "metadata": {},
   "outputs": [
    {
     "name": "stdout",
     "output_type": "stream",
     "text": [
      "\u001b[1m313/313\u001b[0m \u001b[32m━━━━━━━━━━━━━━━━━━━━\u001b[0m\u001b[37m\u001b[0m \u001b[1m0s\u001b[0m 751us/step - accuracy: 0.9356 - loss: 0.2243\n",
      "Точность с 10 нейронами: 0.9355999827384949\n",
      "\u001b[1m313/313\u001b[0m \u001b[32m━━━━━━━━━━━━━━━━━━━━\u001b[0m\u001b[37m\u001b[0m \u001b[1m0s\u001b[0m 683us/step - accuracy: 0.9785 - loss: 0.1000\n",
      "Точность с 100 нейронами: 0.9785000085830688\n",
      "\u001b[1m313/313\u001b[0m \u001b[32m━━━━━━━━━━━━━━━━━━━━\u001b[0m\u001b[37m\u001b[0m \u001b[1m2s\u001b[0m 5ms/step - accuracy: 0.9750 - loss: 0.1969\n",
      "Точность с 5000 нейронами: 0.9750000238418579\n"
     ]
    }
   ],
   "source": [
    "for i in [10, 100, 5000]:\n",
    "    model = MNIST_Model(neorons=i)\n",
    "    model.train(x_train, y_train, x_test, y_test)\n",
    "    print(f'Точность с {i} нейронами: {model.evaluate(x_test, y_test)}')"
   ]
  },
  {
   "cell_type": "markdown",
   "id": "5755b8f6-d9bc-4374-99f0-4498688eb125",
   "metadata": {},
   "source": [
    "## Поменям функию активации в скрытых слоях с relu на linear"
   ]
  },
  {
   "cell_type": "code",
   "execution_count": 20,
   "id": "c6b4da69-09f9-4ebe-abc6-e725089a6e0f",
   "metadata": {},
   "outputs": [
    {
     "name": "stdout",
     "output_type": "stream",
     "text": [
      "\u001b[1m313/313\u001b[0m \u001b[32m━━━━━━━━━━━━━━━━━━━━\u001b[0m\u001b[37m\u001b[0m \u001b[1m0s\u001b[0m 599us/step - accuracy: 0.9215 - loss: 0.2873\n",
      "Точность с функцией активации linear: 0.921500027179718\n"
     ]
    }
   ],
   "source": [
    "model = MNIST_Model(neorons=100, activation='linear')\n",
    "model.train(x_train, y_train, x_test, y_test)\n",
    "print(f'Точность с функцией активации linear: {model.evaluate(x_test, y_test)}')"
   ]
  },
  {
   "cell_type": "markdown",
   "id": "42daee92-792c-4106-a27e-3913254e4883",
   "metadata": {},
   "source": [
    "## Изменение размера batch_size"
   ]
  },
  {
   "cell_type": "code",
   "execution_count": 21,
   "id": "e329b7e0-413d-406b-9eb1-e1b90397e847",
   "metadata": {},
   "outputs": [
    {
     "name": "stdout",
     "output_type": "stream",
     "text": [
      "\u001b[1m313/313\u001b[0m \u001b[32m━━━━━━━━━━━━━━━━━━━━\u001b[0m\u001b[37m\u001b[0m \u001b[1m0s\u001b[0m 587us/step - accuracy: 0.9240 - loss: 0.2739\n",
      "Точность с размером батча 1: 0.9240000247955322\n",
      "\u001b[1m313/313\u001b[0m \u001b[32m━━━━━━━━━━━━━━━━━━━━\u001b[0m\u001b[37m\u001b[0m \u001b[1m0s\u001b[0m 775us/step - accuracy: 0.9469 - loss: 0.1947\n",
      "Точность с размером батча 10: 0.9469000101089478\n",
      "\u001b[1m313/313\u001b[0m \u001b[32m━━━━━━━━━━━━━━━━━━━━\u001b[0m\u001b[37m\u001b[0m \u001b[1m0s\u001b[0m 625us/step - accuracy: 0.9379 - loss: 0.2143\n",
      "Точность с размером батча 100: 0.9379000067710876\n",
      "\u001b[1m313/313\u001b[0m \u001b[32m━━━━━━━━━━━━━━━━━━━━\u001b[0m\u001b[37m\u001b[0m \u001b[1m0s\u001b[0m 788us/step - accuracy: 0.8383 - loss: 0.6510\n",
      "Точность с размером батча 6000: 0.8382999897003174\n"
     ]
    }
   ],
   "source": [
    "for i in [1, 10, 100, 6000]:\n",
    "    model = MNIST_Model(neorons=10, batch_size=i)\n",
    "    model.train(x_train, y_train, x_test, y_test)\n",
    "    print(f'Точность с размером батча {i}: {model.evaluate(x_test, y_test)}')"
   ]
  },
  {
   "cell_type": "code",
   "execution_count": null,
   "id": "12e5103e-da09-4b73-9af1-750268369074",
   "metadata": {},
   "outputs": [],
   "source": []
  },
  {
   "cell_type": "code",
   "execution_count": null,
   "id": "81f0367a-0488-476e-b245-55805d374c23",
   "metadata": {},
   "outputs": [],
   "source": []
  },
  {
   "cell_type": "code",
   "execution_count": 62,
   "id": "f0792094-8c3c-4094-aeea-abe26640c866",
   "metadata": {},
   "outputs": [],
   "source": [
    "def prepare_image(path, invert_colors=True, show=False):\n",
    "    img = image.load_img(path, target_size=(28, 28), color_mode='grayscale')\n",
    "    img_array = image.img_to_array(img)\n",
    "    \n",
    "    if invert_colors:\n",
    "        img_array = 255 - img_array\n",
    "        \n",
    "    img_array = img_array / 255.0\n",
    "    img_array = img_array.reshape(1, 784)\n",
    "    \n",
    "    if show:\n",
    "        plt.imshow(img, cmap='gray')\n",
    "        plt.title('Входное изображение')\n",
    "        plt.axis('off')\n",
    "        plt.show()\n",
    "\n",
    "    return img_array"
   ]
  },
  {
   "cell_type": "code",
   "execution_count": 63,
   "id": "c7739949-6ae2-4413-978c-81b1c97a3ceb",
   "metadata": {},
   "outputs": [
    {
     "data": {
      "image/png": "[encoded data removed]",
      "text/plain": [
       "<Figure size 640x480 with 1 Axes>"
      ]
     },
     "metadata": {},
     "output_type": "display_data"
    }
   ],
   "source": [
    "img_path = '6.png'\n",
    "x_img = prepare_image(img_path,invert_colors=False ,show=True)"
   ]
  },
  {
   "cell_type": "code",
   "execution_count": 64,
   "id": "ad4e9770-9829-4f46-b296-dcfe633b8c39",
   "metadata": {},
   "outputs": [
    {
     "data": {
      "text/plain": [
       "<keras.src.callbacks.history.History at 0x7ab9d6c3fbc0>"
      ]
     },
     "execution_count": 64,
     "metadata": {},
     "output_type": "execute_result"
    }
   ],
   "source": [
    "model = MNIST_Model(neorons=10)\n",
    "model.train(x_train, y_train, x_test, y_test)"
   ]
  },
  {
   "cell_type": "code",
   "execution_count": 65,
   "id": "99ce7191-b58d-4df6-bcc0-2c6842e6bace",
   "metadata": {},
   "outputs": [
    {
     "name": "stdout",
     "output_type": "stream",
     "text": [
      "WARNING:tensorflow:6 out of the last 8 calls to <function TensorFlowTrainer.make_predict_function.<locals>.one_step_on_data_distributed at 0x7ab901270cc0> triggered tf.function retracing. Tracing is expensive and the excessive number of tracings could be due to (1) creating @tf.function repeatedly in a loop, (2) passing tensors with different shapes, (3) passing Python objects instead of tensors. For (1), please define your @tf.function outside of the loop. For (2), @tf.function has reduce_retracing=True option that can avoid unnecessary retracing. For (3), please refer to https://www.tensorflow.org/guide/function#controlling_retracing and https://www.tensorflow.org/api_docs/python/tf/function for  more details.\n",
      "\u001b[1m1/1\u001b[0m \u001b[32m━━━━━━━━━━━━━━━━━━━━\u001b[0m\u001b[37m\u001b[0m \u001b[1m0s\u001b[0m 30ms/step\n"
     ]
    }
   ],
   "source": [
    "pred = model.predict(x_img)"
   ]
  },
  {
   "cell_type": "code",
   "execution_count": 66,
   "id": "10d07fed-5df5-4b70-8f53-e8c40212a2b2",
   "metadata": {},
   "outputs": [
    {
     "name": "stdout",
     "output_type": "stream",
     "text": [
      "[3]\n"
     ]
    }
   ],
   "source": [
    "print(pred)"
   ]
  },
  {
   "cell_type": "code",
   "execution_count": 67,
   "id": "9e7b8c91-018e-4d42-b2bc-85a1f4ba1689",
   "metadata": {},
   "outputs": [
    {
     "data": {
      "image/png": "[encoded data removed]",
      "text/plain": [
       "<Figure size 640x480 with 1 Axes>"
      ]
     },
     "metadata": {},
     "output_type": "display_data"
    }
   ],
   "source": [
    "img_path_8 = '8.png'\n",
    "x_img_8 = prepare_image(img_path_8, show=True)"
   ]
  },
  {
   "cell_type": "code",
   "execution_count": 70,
   "id": "aa0eb683-f144-4e93-944f-a5af411bb230",
   "metadata": {},
   "outputs": [
    {
     "name": "stdout",
     "output_type": "stream",
     "text": [
      "\u001b[1m1/1\u001b[0m \u001b[32m━━━━━━━━━━━━━━━━━━━━\u001b[0m\u001b[37m\u001b[0m \u001b[1m0s\u001b[0m 17ms/step\n",
      "[1]\n"
     ]
    }
   ],
   "source": [
    "print(model.predict(x_img_8))"
   ]
  },
  {
   "cell_type": "code",
   "execution_count": 71,
   "id": "8a1668a0-f0d6-4af1-9fe4-a1fea664155b",
   "metadata": {},
   "outputs": [
    {
     "data": {
      "image/png": "[encoded data removed]",
      "text/plain": [
       "<Figure size 640x480 with 1 Axes>"
      ]
     },
     "metadata": {},
     "output_type": "display_data"
    }
   ],
   "source": [
    "img_4 = prepare_image('4.png', show=True)"
   ]
  },
  {
   "cell_type": "code",
   "execution_count": 72,
   "id": "e0b171c8-87b4-4532-9bc3-46a37ddefae6",
   "metadata": {},
   "outputs": [
    {
     "name": "stdout",
     "output_type": "stream",
     "text": [
      "\u001b[1m1/1\u001b[0m \u001b[32m━━━━━━━━━━━━━━━━━━━━\u001b[0m\u001b[37m\u001b[0m \u001b[1m0s\u001b[0m 18ms/step\n",
      "[8]\n"
     ]
    }
   ],
   "source": [
    "print(model.predict(img_4))"
   ]
  },
  {
   "cell_type": "code",
   "execution_count": null,
   "id": "5b347dba-d9e2-4155-be7b-f6f6c0dbbc9d",
   "metadata": {},
   "outputs": [],
   "source": []
  }
 ],
 "metadata": {
  "kernelspec": {
   "display_name": "Python 3 (ipykernel)",
   "language": "python",
   "name": "python3"
  },
  "language_info": {
   "codemirror_mode": {
    "name": "ipython",
    "version": 3
   },
   "file_extension": ".py",
   "mimetype": "text/x-python",
   "name": "python",
   "nbconvert_exporter": "python",
   "pygments_lexer": "ipython3",
   "version": "3.12.3"
  }
 },
 "nbformat": 4,
 "nbformat_minor": 5
}
